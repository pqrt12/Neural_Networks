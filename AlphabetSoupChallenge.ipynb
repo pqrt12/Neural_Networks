{
 "cells": [
  {
   "cell_type": "code",
   "execution_count": 1,
   "metadata": {},
   "outputs": [],
   "source": [
    "# Import our dependencies\n",
    "import pandas as pd\n",
    "import numpy as np\n",
    "import tensorflow as tf\n",
    "from sklearn.model_selection import train_test_split\n",
    "from sklearn.preprocessing import StandardScaler, OneHotEncoder\n",
    "from sklearn.metrics import accuracy_score\n",
    "from tensorflow.keras.models import Sequential\n",
    "from tensorflow.keras.layers import Dense\n"
   ]
  },
  {
   "cell_type": "markdown",
   "metadata": {},
   "source": [
    "## Import Data"
   ]
  },
  {
   "cell_type": "code",
   "execution_count": 2,
   "metadata": {},
   "outputs": [
    {
     "data": {
      "text/html": [
       "<div>\n",
       "<style scoped>\n",
       "    .dataframe tbody tr th:only-of-type {\n",
       "        vertical-align: middle;\n",
       "    }\n",
       "\n",
       "    .dataframe tbody tr th {\n",
       "        vertical-align: top;\n",
       "    }\n",
       "\n",
       "    .dataframe thead th {\n",
       "        text-align: right;\n",
       "    }\n",
       "</style>\n",
       "<table border=\"1\" class=\"dataframe\">\n",
       "  <thead>\n",
       "    <tr style=\"text-align: right;\">\n",
       "      <th></th>\n",
       "      <th>EIN</th>\n",
       "      <th>NAME</th>\n",
       "      <th>APPLICATION_TYPE</th>\n",
       "      <th>AFFILIATION</th>\n",
       "      <th>CLASSIFICATION</th>\n",
       "      <th>USE_CASE</th>\n",
       "      <th>ORGANIZATION</th>\n",
       "      <th>STATUS</th>\n",
       "      <th>INCOME_AMT</th>\n",
       "      <th>SPECIAL_CONSIDERATIONS</th>\n",
       "      <th>ASK_AMT</th>\n",
       "      <th>IS_SUCCESSFUL</th>\n",
       "    </tr>\n",
       "  </thead>\n",
       "  <tbody>\n",
       "    <tr>\n",
       "      <th>0</th>\n",
       "      <td>10520599</td>\n",
       "      <td>BLUE KNIGHTS MOTORCYCLE CLUB</td>\n",
       "      <td>T10</td>\n",
       "      <td>Independent</td>\n",
       "      <td>C1000</td>\n",
       "      <td>ProductDev</td>\n",
       "      <td>Association</td>\n",
       "      <td>1</td>\n",
       "      <td>0</td>\n",
       "      <td>N</td>\n",
       "      <td>5000</td>\n",
       "      <td>1</td>\n",
       "    </tr>\n",
       "    <tr>\n",
       "      <th>1</th>\n",
       "      <td>10531628</td>\n",
       "      <td>AMERICAN CHESAPEAKE CLUB CHARITABLE TR</td>\n",
       "      <td>T3</td>\n",
       "      <td>Independent</td>\n",
       "      <td>C2000</td>\n",
       "      <td>Preservation</td>\n",
       "      <td>Co-operative</td>\n",
       "      <td>1</td>\n",
       "      <td>1-9999</td>\n",
       "      <td>N</td>\n",
       "      <td>108590</td>\n",
       "      <td>1</td>\n",
       "    </tr>\n",
       "    <tr>\n",
       "      <th>2</th>\n",
       "      <td>10547893</td>\n",
       "      <td>ST CLOUD PROFESSIONAL FIREFIGHTERS</td>\n",
       "      <td>T5</td>\n",
       "      <td>CompanySponsored</td>\n",
       "      <td>C3000</td>\n",
       "      <td>ProductDev</td>\n",
       "      <td>Association</td>\n",
       "      <td>1</td>\n",
       "      <td>0</td>\n",
       "      <td>N</td>\n",
       "      <td>5000</td>\n",
       "      <td>0</td>\n",
       "    </tr>\n",
       "  </tbody>\n",
       "</table>\n",
       "</div>"
      ],
      "text/plain": [
       "        EIN                                    NAME APPLICATION_TYPE  \\\n",
       "0  10520599            BLUE KNIGHTS MOTORCYCLE CLUB              T10   \n",
       "1  10531628  AMERICAN CHESAPEAKE CLUB CHARITABLE TR               T3   \n",
       "2  10547893      ST CLOUD PROFESSIONAL FIREFIGHTERS               T5   \n",
       "\n",
       "        AFFILIATION CLASSIFICATION      USE_CASE  ORGANIZATION  STATUS  \\\n",
       "0       Independent          C1000    ProductDev   Association       1   \n",
       "1       Independent          C2000  Preservation  Co-operative       1   \n",
       "2  CompanySponsored          C3000    ProductDev   Association       1   \n",
       "\n",
       "  INCOME_AMT SPECIAL_CONSIDERATIONS  ASK_AMT  IS_SUCCESSFUL  \n",
       "0          0                      N     5000              1  \n",
       "1     1-9999                      N   108590              1  \n",
       "2          0                      N     5000              0  "
      ]
     },
     "execution_count": 2,
     "metadata": {},
     "output_type": "execute_result"
    }
   ],
   "source": [
    "# Import our input dataset\n",
    "charity_df = pd.read_csv('charity_data.csv')\n",
    "charity_df.head(3)"
   ]
  },
  {
   "cell_type": "code",
   "execution_count": 3,
   "metadata": {},
   "outputs": [
    {
     "name": "stdout",
     "output_type": "stream",
     "text": [
      "<class 'pandas.core.frame.DataFrame'>\n",
      "RangeIndex: 34299 entries, 0 to 34298\n",
      "Data columns (total 12 columns):\n",
      " #   Column                  Non-Null Count  Dtype \n",
      "---  ------                  --------------  ----- \n",
      " 0   EIN                     34299 non-null  int64 \n",
      " 1   NAME                    34299 non-null  object\n",
      " 2   APPLICATION_TYPE        34299 non-null  object\n",
      " 3   AFFILIATION             34299 non-null  object\n",
      " 4   CLASSIFICATION          34299 non-null  object\n",
      " 5   USE_CASE                34299 non-null  object\n",
      " 6   ORGANIZATION            34299 non-null  object\n",
      " 7   STATUS                  34299 non-null  int64 \n",
      " 8   INCOME_AMT              34299 non-null  object\n",
      " 9   SPECIAL_CONSIDERATIONS  34299 non-null  object\n",
      " 10  ASK_AMT                 34299 non-null  int64 \n",
      " 11  IS_SUCCESSFUL           34299 non-null  int64 \n",
      "dtypes: int64(4), object(8)\n",
      "memory usage: 3.1+ MB\n"
     ]
    }
   ],
   "source": [
    "charity_df.info()"
   ]
  },
  {
   "cell_type": "markdown",
   "metadata": {},
   "source": [
    "### Remove non-essential features"
   ]
  },
  {
   "cell_type": "code",
   "execution_count": 4,
   "metadata": {},
   "outputs": [
    {
     "data": {
      "text/html": [
       "<div>\n",
       "<style scoped>\n",
       "    .dataframe tbody tr th:only-of-type {\n",
       "        vertical-align: middle;\n",
       "    }\n",
       "\n",
       "    .dataframe tbody tr th {\n",
       "        vertical-align: top;\n",
       "    }\n",
       "\n",
       "    .dataframe thead th {\n",
       "        text-align: right;\n",
       "    }\n",
       "</style>\n",
       "<table border=\"1\" class=\"dataframe\">\n",
       "  <thead>\n",
       "    <tr style=\"text-align: right;\">\n",
       "      <th></th>\n",
       "      <th>EIN</th>\n",
       "      <th>NAME</th>\n",
       "    </tr>\n",
       "  </thead>\n",
       "  <tbody>\n",
       "    <tr>\n",
       "      <th>0</th>\n",
       "      <td>10520599</td>\n",
       "      <td>BLUE KNIGHTS MOTORCYCLE CLUB</td>\n",
       "    </tr>\n",
       "    <tr>\n",
       "      <th>1</th>\n",
       "      <td>10531628</td>\n",
       "      <td>AMERICAN CHESAPEAKE CLUB CHARITABLE TR</td>\n",
       "    </tr>\n",
       "    <tr>\n",
       "      <th>2</th>\n",
       "      <td>10547893</td>\n",
       "      <td>ST CLOUD PROFESSIONAL FIREFIGHTERS</td>\n",
       "    </tr>\n",
       "  </tbody>\n",
       "</table>\n",
       "</div>"
      ],
      "text/plain": [
       "        EIN                                    NAME\n",
       "0  10520599            BLUE KNIGHTS MOTORCYCLE CLUB\n",
       "1  10531628  AMERICAN CHESAPEAKE CLUB CHARITABLE TR\n",
       "2  10547893      ST CLOUD PROFESSIONAL FIREFIGHTERS"
      ]
     },
     "execution_count": 4,
     "metadata": {},
     "output_type": "execute_result"
    }
   ],
   "source": [
    "remove_columns = ['EIN', 'NAME']\n",
    "name_df = charity_df[remove_columns]\n",
    "name_df.head(3)"
   ]
  },
  {
   "cell_type": "markdown",
   "metadata": {},
   "source": [
    "### Input DataFrame before Categorical Encoding"
   ]
  },
  {
   "cell_type": "code",
   "execution_count": 5,
   "metadata": {},
   "outputs": [
    {
     "data": {
      "text/plain": [
       "(34299, 10)"
      ]
     },
     "execution_count": 5,
     "metadata": {},
     "output_type": "execute_result"
    }
   ],
   "source": [
    "charity_df = charity_df.drop(columns=remove_columns)\n",
    "charity_df.shape"
   ]
  },
  {
   "cell_type": "markdown",
   "metadata": {},
   "source": [
    "### Categorical Variables Encoding"
   ]
  },
  {
   "cell_type": "code",
   "execution_count": 6,
   "metadata": {},
   "outputs": [
    {
     "data": {
      "text/plain": [
       "APPLICATION_TYPE          17\n",
       "AFFILIATION                6\n",
       "CLASSIFICATION            71\n",
       "USE_CASE                   5\n",
       "ORGANIZATION               4\n",
       "INCOME_AMT                 9\n",
       "SPECIAL_CONSIDERATIONS     2\n",
       "dtype: int64"
      ]
     },
     "execution_count": 6,
     "metadata": {},
     "output_type": "execute_result"
    }
   ],
   "source": [
    "# Generate our categorical variable list\n",
    "cat_list = list(charity_df.dtypes[charity_df.dtypes == \"object\"].index)\n",
    "# Check the number of unique values in each column\n",
    "charity_df[cat_list].nunique()"
   ]
  },
  {
   "cell_type": "code",
   "execution_count": 7,
   "metadata": {},
   "outputs": [],
   "source": [
    "# return a table groupby the given column name, with count and 'IS_SUCCESSFUL' mean \n",
    "def categorical_variable_bin_table_get(col):\n",
    "    t = charity_df[[col, 'IS_SUCCESSFUL']].copy().groupby(col).agg({'count', 'mean'})\n",
    "    t.columns = ['cnt', 'avg']\n",
    "    return t.sort_values(by=['cnt'], ascending=False)\n",
    "\n",
    "# find the cutoff categorical variable to meet the threshold.\n",
    "def categorical_variable_bin_cutoff(t_df, thres=0.95):\n",
    "    total = t_df['cnt'].sum()\n",
    "    thres = thres * total\n",
    "    cat_count_list = list(t_df['cnt'])\n",
    "    sum = 0\n",
    "    for idx, cnt in enumerate(cat_count_list):\n",
    "        sum = sum + cnt\n",
    "        if (sum > thres):\n",
    "            break\n",
    "    print(f'sum = {sum}, total={total}, ratio={sum/total*100:.2f}%; items={idx + 1}, cnt={cnt}')\n",
    "    return cnt\n",
    "\n",
    "# replace the categorical variable to \"Others_Lo\" and \"Others_Hi\"\n",
    "def categorical_variables_replace(t_df, cat, cnt, avg=-1):\n",
    "    for var in list(t_df[t_df.cnt < cnt].index):\n",
    "        if (t_df.at[var, 'avg'] < avg):\n",
    "            charity_df[cat] = charity_df[cat].replace(var, \"Others_Lo\")\n",
    "        else:\n",
    "            charity_df[cat] = charity_df[cat].replace(var, \"Others_Hi\")"
   ]
  },
  {
   "cell_type": "markdown",
   "metadata": {},
   "source": [
    "#### APPLICATION_TYPE"
   ]
  },
  {
   "cell_type": "code",
   "execution_count": 8,
   "metadata": {},
   "outputs": [
    {
     "data": {
      "text/plain": [
       "<matplotlib.axes._subplots.AxesSubplot at 0x22df8bf4908>"
      ]
     },
     "execution_count": 8,
     "metadata": {},
     "output_type": "execute_result"
    },
    {
     "data": {
      "image/png": "[encoded data removed]",
      "text/plain": [
       "<Figure size 432x288 with 1 Axes>"
      ]
     },
     "metadata": {
      "needs_background": "light"
     },
     "output_type": "display_data"
    }
   ],
   "source": [
    "# Visualize the value counts\n",
    "app_type_counts = charity_df.APPLICATION_TYPE.value_counts()\n",
    "app_type_counts.plot.density()"
   ]
  },
  {
   "cell_type": "code",
   "execution_count": 9,
   "metadata": {},
   "outputs": [
    {
     "data": {
      "text/html": [
       "<div>\n",
       "<style scoped>\n",
       "    .dataframe tbody tr th:only-of-type {\n",
       "        vertical-align: middle;\n",
       "    }\n",
       "\n",
       "    .dataframe tbody tr th {\n",
       "        vertical-align: top;\n",
       "    }\n",
       "\n",
       "    .dataframe thead th {\n",
       "        text-align: right;\n",
       "    }\n",
       "</style>\n",
       "<table border=\"1\" class=\"dataframe\">\n",
       "  <thead>\n",
       "    <tr style=\"text-align: right;\">\n",
       "      <th></th>\n",
       "      <th>cnt</th>\n",
       "      <th>avg</th>\n",
       "    </tr>\n",
       "    <tr>\n",
       "      <th>APPLICATION_TYPE</th>\n",
       "      <th></th>\n",
       "      <th></th>\n",
       "    </tr>\n",
       "  </thead>\n",
       "  <tbody>\n",
       "    <tr>\n",
       "      <th>T3</th>\n",
       "      <td>27037</td>\n",
       "      <td>0.532160</td>\n",
       "    </tr>\n",
       "    <tr>\n",
       "      <th>T4</th>\n",
       "      <td>1542</td>\n",
       "      <td>0.305447</td>\n",
       "    </tr>\n",
       "    <tr>\n",
       "      <th>T6</th>\n",
       "      <td>1216</td>\n",
       "      <td>0.740132</td>\n",
       "    </tr>\n",
       "    <tr>\n",
       "      <th>T5</th>\n",
       "      <td>1173</td>\n",
       "      <td>0.767263</td>\n",
       "    </tr>\n",
       "    <tr>\n",
       "      <th>T19</th>\n",
       "      <td>1065</td>\n",
       "      <td>0.188732</td>\n",
       "    </tr>\n",
       "    <tr>\n",
       "      <th>T8</th>\n",
       "      <td>737</td>\n",
       "      <td>0.421981</td>\n",
       "    </tr>\n",
       "    <tr>\n",
       "      <th>T7</th>\n",
       "      <td>725</td>\n",
       "      <td>0.565517</td>\n",
       "    </tr>\n",
       "    <tr>\n",
       "      <th>T10</th>\n",
       "      <td>528</td>\n",
       "      <td>0.878788</td>\n",
       "    </tr>\n",
       "    <tr>\n",
       "      <th>T9</th>\n",
       "      <td>156</td>\n",
       "      <td>0.717949</td>\n",
       "    </tr>\n",
       "    <tr>\n",
       "      <th>T13</th>\n",
       "      <td>66</td>\n",
       "      <td>0.924242</td>\n",
       "    </tr>\n",
       "    <tr>\n",
       "      <th>T12</th>\n",
       "      <td>27</td>\n",
       "      <td>0.888889</td>\n",
       "    </tr>\n",
       "    <tr>\n",
       "      <th>T2</th>\n",
       "      <td>16</td>\n",
       "      <td>0.562500</td>\n",
       "    </tr>\n",
       "    <tr>\n",
       "      <th>T14</th>\n",
       "      <td>3</td>\n",
       "      <td>1.000000</td>\n",
       "    </tr>\n",
       "    <tr>\n",
       "      <th>T25</th>\n",
       "      <td>3</td>\n",
       "      <td>0.666667</td>\n",
       "    </tr>\n",
       "    <tr>\n",
       "      <th>T29</th>\n",
       "      <td>2</td>\n",
       "      <td>1.000000</td>\n",
       "    </tr>\n",
       "    <tr>\n",
       "      <th>T15</th>\n",
       "      <td>2</td>\n",
       "      <td>1.000000</td>\n",
       "    </tr>\n",
       "    <tr>\n",
       "      <th>T17</th>\n",
       "      <td>1</td>\n",
       "      <td>1.000000</td>\n",
       "    </tr>\n",
       "  </tbody>\n",
       "</table>\n",
       "</div>"
      ],
      "text/plain": [
       "                    cnt       avg\n",
       "APPLICATION_TYPE                 \n",
       "T3                27037  0.532160\n",
       "T4                 1542  0.305447\n",
       "T6                 1216  0.740132\n",
       "T5                 1173  0.767263\n",
       "T19                1065  0.188732\n",
       "T8                  737  0.421981\n",
       "T7                  725  0.565517\n",
       "T10                 528  0.878788\n",
       "T9                  156  0.717949\n",
       "T13                  66  0.924242\n",
       "T12                  27  0.888889\n",
       "T2                   16  0.562500\n",
       "T14                   3  1.000000\n",
       "T25                   3  0.666667\n",
       "T29                   2  1.000000\n",
       "T15                   2  1.000000\n",
       "T17                   1  1.000000"
      ]
     },
     "execution_count": 9,
     "metadata": {},
     "output_type": "execute_result"
    }
   ],
   "source": [
    "category = 'APPLICATION_TYPE' \n",
    "t_df = categorical_variable_bin_table_get(category)\n",
    "t_df"
   ]
  },
  {
   "cell_type": "code",
   "execution_count": 10,
   "metadata": {},
   "outputs": [
    {
     "name": "stdout",
     "output_type": "stream",
     "text": [
      "sum = 32770, total=34299, ratio=95.54%; items=6, cnt=737\n"
     ]
    }
   ],
   "source": [
    "# Check out the categroical variable \n",
    "cnt = categorical_variable_bin_cutoff(t_df, 0.95)"
   ]
  },
  {
   "cell_type": "code",
   "execution_count": 11,
   "metadata": {},
   "outputs": [
    {
     "data": {
      "text/html": [
       "<div>\n",
       "<style scoped>\n",
       "    .dataframe tbody tr th:only-of-type {\n",
       "        vertical-align: middle;\n",
       "    }\n",
       "\n",
       "    .dataframe tbody tr th {\n",
       "        vertical-align: top;\n",
       "    }\n",
       "\n",
       "    .dataframe thead th {\n",
       "        text-align: right;\n",
       "    }\n",
       "</style>\n",
       "<table border=\"1\" class=\"dataframe\">\n",
       "  <thead>\n",
       "    <tr style=\"text-align: right;\">\n",
       "      <th></th>\n",
       "      <th>cnt</th>\n",
       "      <th>avg</th>\n",
       "    </tr>\n",
       "    <tr>\n",
       "      <th>APPLICATION_TYPE</th>\n",
       "      <th></th>\n",
       "      <th></th>\n",
       "    </tr>\n",
       "  </thead>\n",
       "  <tbody>\n",
       "    <tr>\n",
       "      <th>T3</th>\n",
       "      <td>27037</td>\n",
       "      <td>0.532160</td>\n",
       "    </tr>\n",
       "    <tr>\n",
       "      <th>T4</th>\n",
       "      <td>1542</td>\n",
       "      <td>0.305447</td>\n",
       "    </tr>\n",
       "    <tr>\n",
       "      <th>T6</th>\n",
       "      <td>1216</td>\n",
       "      <td>0.740132</td>\n",
       "    </tr>\n",
       "    <tr>\n",
       "      <th>T5</th>\n",
       "      <td>1173</td>\n",
       "      <td>0.767263</td>\n",
       "    </tr>\n",
       "    <tr>\n",
       "      <th>T19</th>\n",
       "      <td>1065</td>\n",
       "      <td>0.188732</td>\n",
       "    </tr>\n",
       "    <tr>\n",
       "      <th>Others_Hi</th>\n",
       "      <td>785</td>\n",
       "      <td>0.852229</td>\n",
       "    </tr>\n",
       "    <tr>\n",
       "      <th>Others_Lo</th>\n",
       "      <td>744</td>\n",
       "      <td>0.565860</td>\n",
       "    </tr>\n",
       "    <tr>\n",
       "      <th>T8</th>\n",
       "      <td>737</td>\n",
       "      <td>0.421981</td>\n",
       "    </tr>\n",
       "  </tbody>\n",
       "</table>\n",
       "</div>"
      ],
      "text/plain": [
       "                    cnt       avg\n",
       "APPLICATION_TYPE                 \n",
       "T3                27037  0.532160\n",
       "T4                 1542  0.305447\n",
       "T6                 1216  0.740132\n",
       "T5                 1173  0.767263\n",
       "T19                1065  0.188732\n",
       "Others_Hi           785  0.852229\n",
       "Others_Lo           744  0.565860\n",
       "T8                  737  0.421981"
      ]
     },
     "execution_count": 11,
     "metadata": {},
     "output_type": "execute_result"
    }
   ],
   "source": [
    "categorical_variables_replace(t_df, category, cnt, 0.7)\n",
    "# Check to make sure binning was successful\n",
    "categorical_variable_bin_table_get(category)"
   ]
  },
  {
   "cell_type": "markdown",
   "metadata": {},
   "source": [
    "#### AFFILIATION"
   ]
  },
  {
   "cell_type": "code",
   "execution_count": 12,
   "metadata": {},
   "outputs": [
    {
     "data": {
      "text/html": [
       "<div>\n",
       "<style scoped>\n",
       "    .dataframe tbody tr th:only-of-type {\n",
       "        vertical-align: middle;\n",
       "    }\n",
       "\n",
       "    .dataframe tbody tr th {\n",
       "        vertical-align: top;\n",
       "    }\n",
       "\n",
       "    .dataframe thead th {\n",
       "        text-align: right;\n",
       "    }\n",
       "</style>\n",
       "<table border=\"1\" class=\"dataframe\">\n",
       "  <thead>\n",
       "    <tr style=\"text-align: right;\">\n",
       "      <th></th>\n",
       "      <th>cnt</th>\n",
       "      <th>avg</th>\n",
       "    </tr>\n",
       "    <tr>\n",
       "      <th>AFFILIATION</th>\n",
       "      <th></th>\n",
       "      <th></th>\n",
       "    </tr>\n",
       "  </thead>\n",
       "  <tbody>\n",
       "    <tr>\n",
       "      <th>Independent</th>\n",
       "      <td>18480</td>\n",
       "      <td>0.702435</td>\n",
       "    </tr>\n",
       "    <tr>\n",
       "      <th>CompanySponsored</th>\n",
       "      <td>15705</td>\n",
       "      <td>0.331869</td>\n",
       "    </tr>\n",
       "    <tr>\n",
       "      <th>Family/Parent</th>\n",
       "      <td>64</td>\n",
       "      <td>0.562500</td>\n",
       "    </tr>\n",
       "    <tr>\n",
       "      <th>National</th>\n",
       "      <td>33</td>\n",
       "      <td>0.606061</td>\n",
       "    </tr>\n",
       "    <tr>\n",
       "      <th>Regional</th>\n",
       "      <td>13</td>\n",
       "      <td>0.615385</td>\n",
       "    </tr>\n",
       "    <tr>\n",
       "      <th>Other</th>\n",
       "      <td>4</td>\n",
       "      <td>1.000000</td>\n",
       "    </tr>\n",
       "  </tbody>\n",
       "</table>\n",
       "</div>"
      ],
      "text/plain": [
       "                    cnt       avg\n",
       "AFFILIATION                      \n",
       "Independent       18480  0.702435\n",
       "CompanySponsored  15705  0.331869\n",
       "Family/Parent        64  0.562500\n",
       "National             33  0.606061\n",
       "Regional             13  0.615385\n",
       "Other                 4  1.000000"
      ]
     },
     "execution_count": 12,
     "metadata": {},
     "output_type": "execute_result"
    }
   ],
   "source": [
    "category = 'AFFILIATION'\n",
    "t_df = categorical_variable_bin_table_get(category)\n",
    "t_df.head(10)"
   ]
  },
  {
   "cell_type": "code",
   "execution_count": 13,
   "metadata": {},
   "outputs": [
    {
     "data": {
      "text/html": [
       "<div>\n",
       "<style scoped>\n",
       "    .dataframe tbody tr th:only-of-type {\n",
       "        vertical-align: middle;\n",
       "    }\n",
       "\n",
       "    .dataframe tbody tr th {\n",
       "        vertical-align: top;\n",
       "    }\n",
       "\n",
       "    .dataframe thead th {\n",
       "        text-align: right;\n",
       "    }\n",
       "</style>\n",
       "<table border=\"1\" class=\"dataframe\">\n",
       "  <thead>\n",
       "    <tr style=\"text-align: right;\">\n",
       "      <th></th>\n",
       "      <th>cnt</th>\n",
       "      <th>avg</th>\n",
       "    </tr>\n",
       "    <tr>\n",
       "      <th>AFFILIATION</th>\n",
       "      <th></th>\n",
       "      <th></th>\n",
       "    </tr>\n",
       "  </thead>\n",
       "  <tbody>\n",
       "    <tr>\n",
       "      <th>Independent</th>\n",
       "      <td>18480</td>\n",
       "      <td>0.702435</td>\n",
       "    </tr>\n",
       "    <tr>\n",
       "      <th>CompanySponsored</th>\n",
       "      <td>15705</td>\n",
       "      <td>0.331869</td>\n",
       "    </tr>\n",
       "    <tr>\n",
       "      <th>Others_Hi</th>\n",
       "      <td>114</td>\n",
       "      <td>0.596491</td>\n",
       "    </tr>\n",
       "  </tbody>\n",
       "</table>\n",
       "</div>"
      ],
      "text/plain": [
       "                    cnt       avg\n",
       "AFFILIATION                      \n",
       "Independent       18480  0.702435\n",
       "CompanySponsored  15705  0.331869\n",
       "Others_Hi           114  0.596491"
      ]
     },
     "execution_count": 13,
     "metadata": {},
     "output_type": "execute_result"
    }
   ],
   "source": [
    "# Replace in DataFrame\n",
    "cnt = 64 + 1\n",
    "categorical_variables_replace(t_df, category, cnt, 0.5)\n",
    "\n",
    "# Check to make sure binning was successful\n",
    "categorical_variable_bin_table_get(category)"
   ]
  },
  {
   "cell_type": "markdown",
   "metadata": {},
   "source": [
    "#### CLASSIFICATION"
   ]
  },
  {
   "cell_type": "code",
   "execution_count": 14,
   "metadata": {},
   "outputs": [
    {
     "data": {
      "text/html": [
       "<div>\n",
       "<style scoped>\n",
       "    .dataframe tbody tr th:only-of-type {\n",
       "        vertical-align: middle;\n",
       "    }\n",
       "\n",
       "    .dataframe tbody tr th {\n",
       "        vertical-align: top;\n",
       "    }\n",
       "\n",
       "    .dataframe thead th {\n",
       "        text-align: right;\n",
       "    }\n",
       "</style>\n",
       "<table border=\"1\" class=\"dataframe\">\n",
       "  <thead>\n",
       "    <tr style=\"text-align: right;\">\n",
       "      <th></th>\n",
       "      <th>cnt</th>\n",
       "      <th>avg</th>\n",
       "    </tr>\n",
       "    <tr>\n",
       "      <th>CLASSIFICATION</th>\n",
       "      <th></th>\n",
       "      <th></th>\n",
       "    </tr>\n",
       "  </thead>\n",
       "  <tbody>\n",
       "    <tr>\n",
       "      <th>C1000</th>\n",
       "      <td>17326</td>\n",
       "      <td>0.563315</td>\n",
       "    </tr>\n",
       "    <tr>\n",
       "      <th>C2000</th>\n",
       "      <td>6074</td>\n",
       "      <td>0.531939</td>\n",
       "    </tr>\n",
       "    <tr>\n",
       "      <th>C1200</th>\n",
       "      <td>4837</td>\n",
       "      <td>0.462683</td>\n",
       "    </tr>\n",
       "    <tr>\n",
       "      <th>C3000</th>\n",
       "      <td>1918</td>\n",
       "      <td>0.484880</td>\n",
       "    </tr>\n",
       "    <tr>\n",
       "      <th>C2100</th>\n",
       "      <td>1883</td>\n",
       "      <td>0.226235</td>\n",
       "    </tr>\n",
       "    <tr>\n",
       "      <th>C7000</th>\n",
       "      <td>777</td>\n",
       "      <td>0.893179</td>\n",
       "    </tr>\n",
       "    <tr>\n",
       "      <th>C1700</th>\n",
       "      <td>287</td>\n",
       "      <td>0.602787</td>\n",
       "    </tr>\n",
       "    <tr>\n",
       "      <th>C4000</th>\n",
       "      <td>194</td>\n",
       "      <td>0.829897</td>\n",
       "    </tr>\n",
       "    <tr>\n",
       "      <th>C5000</th>\n",
       "      <td>116</td>\n",
       "      <td>0.051724</td>\n",
       "    </tr>\n",
       "    <tr>\n",
       "      <th>C1270</th>\n",
       "      <td>114</td>\n",
       "      <td>0.771930</td>\n",
       "    </tr>\n",
       "  </tbody>\n",
       "</table>\n",
       "</div>"
      ],
      "text/plain": [
       "                  cnt       avg\n",
       "CLASSIFICATION                 \n",
       "C1000           17326  0.563315\n",
       "C2000            6074  0.531939\n",
       "C1200            4837  0.462683\n",
       "C3000            1918  0.484880\n",
       "C2100            1883  0.226235\n",
       "C7000             777  0.893179\n",
       "C1700             287  0.602787\n",
       "C4000             194  0.829897\n",
       "C5000             116  0.051724\n",
       "C1270             114  0.771930"
      ]
     },
     "execution_count": 14,
     "metadata": {},
     "output_type": "execute_result"
    }
   ],
   "source": [
    "category = 'CLASSIFICATION'\n",
    "t_df = categorical_variable_bin_table_get(category)\n",
    "t_df.head(10)"
   ]
  },
  {
   "cell_type": "code",
   "execution_count": 15,
   "metadata": {},
   "outputs": [
    {
     "name": "stdout",
     "output_type": "stream",
     "text": [
      "sum = 32815, total=34299, ratio=95.67%; items=6, cnt=777\n"
     ]
    }
   ],
   "source": [
    "# Check out the categroical variable \n",
    "cnt = categorical_variable_bin_cutoff(t_df, 0.95)"
   ]
  },
  {
   "cell_type": "code",
   "execution_count": 16,
   "metadata": {},
   "outputs": [
    {
     "data": {
      "text/html": [
       "<div>\n",
       "<style scoped>\n",
       "    .dataframe tbody tr th:only-of-type {\n",
       "        vertical-align: middle;\n",
       "    }\n",
       "\n",
       "    .dataframe tbody tr th {\n",
       "        vertical-align: top;\n",
       "    }\n",
       "\n",
       "    .dataframe thead th {\n",
       "        text-align: right;\n",
       "    }\n",
       "</style>\n",
       "<table border=\"1\" class=\"dataframe\">\n",
       "  <thead>\n",
       "    <tr style=\"text-align: right;\">\n",
       "      <th></th>\n",
       "      <th>cnt</th>\n",
       "      <th>avg</th>\n",
       "    </tr>\n",
       "    <tr>\n",
       "      <th>CLASSIFICATION</th>\n",
       "      <th></th>\n",
       "      <th></th>\n",
       "    </tr>\n",
       "  </thead>\n",
       "  <tbody>\n",
       "    <tr>\n",
       "      <th>C1000</th>\n",
       "      <td>17326</td>\n",
       "      <td>0.563315</td>\n",
       "    </tr>\n",
       "    <tr>\n",
       "      <th>C2000</th>\n",
       "      <td>6074</td>\n",
       "      <td>0.531939</td>\n",
       "    </tr>\n",
       "    <tr>\n",
       "      <th>C1200</th>\n",
       "      <td>4837</td>\n",
       "      <td>0.462683</td>\n",
       "    </tr>\n",
       "    <tr>\n",
       "      <th>C3000</th>\n",
       "      <td>1918</td>\n",
       "      <td>0.484880</td>\n",
       "    </tr>\n",
       "    <tr>\n",
       "      <th>C2100</th>\n",
       "      <td>1883</td>\n",
       "      <td>0.226235</td>\n",
       "    </tr>\n",
       "    <tr>\n",
       "      <th>Others_Hi</th>\n",
       "      <td>1256</td>\n",
       "      <td>0.754777</td>\n",
       "    </tr>\n",
       "    <tr>\n",
       "      <th>C7000</th>\n",
       "      <td>777</td>\n",
       "      <td>0.893179</td>\n",
       "    </tr>\n",
       "    <tr>\n",
       "      <th>Others_Lo</th>\n",
       "      <td>228</td>\n",
       "      <td>0.149123</td>\n",
       "    </tr>\n",
       "  </tbody>\n",
       "</table>\n",
       "</div>"
      ],
      "text/plain": [
       "                  cnt       avg\n",
       "CLASSIFICATION                 \n",
       "C1000           17326  0.563315\n",
       "C2000            6074  0.531939\n",
       "C1200            4837  0.462683\n",
       "C3000            1918  0.484880\n",
       "C2100            1883  0.226235\n",
       "Others_Hi        1256  0.754777\n",
       "C7000             777  0.893179\n",
       "Others_Lo         228  0.149123"
      ]
     },
     "execution_count": 16,
     "metadata": {},
     "output_type": "execute_result"
    }
   ],
   "source": [
    "# Replace in DataFrame\n",
    "categorical_variables_replace(t_df, category, cnt, 0.5)\n",
    "\n",
    "# Check to make sure binning was successful\n",
    "categorical_variable_bin_table_get(category)"
   ]
  },
  {
   "cell_type": "markdown",
   "metadata": {},
   "source": [
    "### USE_CASE"
   ]
  },
  {
   "cell_type": "code",
   "execution_count": 17,
   "metadata": {},
   "outputs": [
    {
     "data": {
      "text/html": [
       "<div>\n",
       "<style scoped>\n",
       "    .dataframe tbody tr th:only-of-type {\n",
       "        vertical-align: middle;\n",
       "    }\n",
       "\n",
       "    .dataframe tbody tr th {\n",
       "        vertical-align: top;\n",
       "    }\n",
       "\n",
       "    .dataframe thead th {\n",
       "        text-align: right;\n",
       "    }\n",
       "</style>\n",
       "<table border=\"1\" class=\"dataframe\">\n",
       "  <thead>\n",
       "    <tr style=\"text-align: right;\">\n",
       "      <th></th>\n",
       "      <th>cnt</th>\n",
       "      <th>avg</th>\n",
       "    </tr>\n",
       "    <tr>\n",
       "      <th>USE_CASE</th>\n",
       "      <th></th>\n",
       "      <th></th>\n",
       "    </tr>\n",
       "  </thead>\n",
       "  <tbody>\n",
       "    <tr>\n",
       "      <th>Preservation</th>\n",
       "      <td>28095</td>\n",
       "      <td>0.538067</td>\n",
       "    </tr>\n",
       "    <tr>\n",
       "      <th>ProductDev</th>\n",
       "      <td>5671</td>\n",
       "      <td>0.519132</td>\n",
       "    </tr>\n",
       "    <tr>\n",
       "      <th>CommunityServ</th>\n",
       "      <td>384</td>\n",
       "      <td>0.348958</td>\n",
       "    </tr>\n",
       "    <tr>\n",
       "      <th>Heathcare</th>\n",
       "      <td>146</td>\n",
       "      <td>0.431507</td>\n",
       "    </tr>\n",
       "    <tr>\n",
       "      <th>Other</th>\n",
       "      <td>3</td>\n",
       "      <td>1.000000</td>\n",
       "    </tr>\n",
       "  </tbody>\n",
       "</table>\n",
       "</div>"
      ],
      "text/plain": [
       "                 cnt       avg\n",
       "USE_CASE                      \n",
       "Preservation   28095  0.538067\n",
       "ProductDev      5671  0.519132\n",
       "CommunityServ    384  0.348958\n",
       "Heathcare        146  0.431507\n",
       "Other              3  1.000000"
      ]
     },
     "execution_count": 17,
     "metadata": {},
     "output_type": "execute_result"
    }
   ],
   "source": [
    "category = 'USE_CASE'\n",
    "t_df = categorical_variable_bin_table_get(category)\n",
    "t_df.head(10)"
   ]
  },
  {
   "cell_type": "markdown",
   "metadata": {},
   "source": [
    "#### ORGANIZATION"
   ]
  },
  {
   "cell_type": "code",
   "execution_count": 18,
   "metadata": {},
   "outputs": [
    {
     "data": {
      "text/html": [
       "<div>\n",
       "<style scoped>\n",
       "    .dataframe tbody tr th:only-of-type {\n",
       "        vertical-align: middle;\n",
       "    }\n",
       "\n",
       "    .dataframe tbody tr th {\n",
       "        vertical-align: top;\n",
       "    }\n",
       "\n",
       "    .dataframe thead th {\n",
       "        text-align: right;\n",
       "    }\n",
       "</style>\n",
       "<table border=\"1\" class=\"dataframe\">\n",
       "  <thead>\n",
       "    <tr style=\"text-align: right;\">\n",
       "      <th></th>\n",
       "      <th>cnt</th>\n",
       "      <th>avg</th>\n",
       "    </tr>\n",
       "    <tr>\n",
       "      <th>ORGANIZATION</th>\n",
       "      <th></th>\n",
       "      <th></th>\n",
       "    </tr>\n",
       "  </thead>\n",
       "  <tbody>\n",
       "    <tr>\n",
       "      <th>Trust</th>\n",
       "      <td>23515</td>\n",
       "      <td>0.587200</td>\n",
       "    </tr>\n",
       "    <tr>\n",
       "      <th>Association</th>\n",
       "      <td>10255</td>\n",
       "      <td>0.395222</td>\n",
       "    </tr>\n",
       "    <tr>\n",
       "      <th>Co-operative</th>\n",
       "      <td>486</td>\n",
       "      <td>0.755144</td>\n",
       "    </tr>\n",
       "    <tr>\n",
       "      <th>Corporation</th>\n",
       "      <td>43</td>\n",
       "      <td>0.767442</td>\n",
       "    </tr>\n",
       "  </tbody>\n",
       "</table>\n",
       "</div>"
      ],
      "text/plain": [
       "                cnt       avg\n",
       "ORGANIZATION                 \n",
       "Trust         23515  0.587200\n",
       "Association   10255  0.395222\n",
       "Co-operative    486  0.755144\n",
       "Corporation      43  0.767442"
      ]
     },
     "execution_count": 18,
     "metadata": {},
     "output_type": "execute_result"
    }
   ],
   "source": [
    "category = 'ORGANIZATION' \n",
    "t_df = categorical_variable_bin_table_get(category)\n",
    "t_df.head(10)"
   ]
  },
  {
   "cell_type": "code",
   "execution_count": 19,
   "metadata": {},
   "outputs": [
    {
     "data": {
      "text/html": [
       "<div>\n",
       "<style scoped>\n",
       "    .dataframe tbody tr th:only-of-type {\n",
       "        vertical-align: middle;\n",
       "    }\n",
       "\n",
       "    .dataframe tbody tr th {\n",
       "        vertical-align: top;\n",
       "    }\n",
       "\n",
       "    .dataframe thead th {\n",
       "        text-align: right;\n",
       "    }\n",
       "</style>\n",
       "<table border=\"1\" class=\"dataframe\">\n",
       "  <thead>\n",
       "    <tr style=\"text-align: right;\">\n",
       "      <th></th>\n",
       "      <th>cnt</th>\n",
       "      <th>avg</th>\n",
       "    </tr>\n",
       "    <tr>\n",
       "      <th>ORGANIZATION</th>\n",
       "      <th></th>\n",
       "      <th></th>\n",
       "    </tr>\n",
       "  </thead>\n",
       "  <tbody>\n",
       "    <tr>\n",
       "      <th>Trust</th>\n",
       "      <td>23515</td>\n",
       "      <td>0.587200</td>\n",
       "    </tr>\n",
       "    <tr>\n",
       "      <th>Association</th>\n",
       "      <td>10255</td>\n",
       "      <td>0.395222</td>\n",
       "    </tr>\n",
       "    <tr>\n",
       "      <th>Others_Hi</th>\n",
       "      <td>529</td>\n",
       "      <td>0.756144</td>\n",
       "    </tr>\n",
       "  </tbody>\n",
       "</table>\n",
       "</div>"
      ],
      "text/plain": [
       "                cnt       avg\n",
       "ORGANIZATION                 \n",
       "Trust         23515  0.587200\n",
       "Association   10255  0.395222\n",
       "Others_Hi       529  0.756144"
      ]
     },
     "execution_count": 19,
     "metadata": {},
     "output_type": "execute_result"
    }
   ],
   "source": [
    "# Replace in DataFrame\n",
    "cnt = 486 + 1\n",
    "categorical_variables_replace(t_df, category, cnt, 0.5)\n",
    "\n",
    "# Check to make sure binning was successful\n",
    "categorical_variable_bin_table_get(category)"
   ]
  },
  {
   "cell_type": "markdown",
   "metadata": {},
   "source": [
    "#### SPECIAL_CONSIDERATIONS"
   ]
  },
  {
   "cell_type": "code",
   "execution_count": 20,
   "metadata": {},
   "outputs": [
    {
     "data": {
      "text/html": [
       "<div>\n",
       "<style scoped>\n",
       "    .dataframe tbody tr th:only-of-type {\n",
       "        vertical-align: middle;\n",
       "    }\n",
       "\n",
       "    .dataframe tbody tr th {\n",
       "        vertical-align: top;\n",
       "    }\n",
       "\n",
       "    .dataframe thead th {\n",
       "        text-align: right;\n",
       "    }\n",
       "</style>\n",
       "<table border=\"1\" class=\"dataframe\">\n",
       "  <thead>\n",
       "    <tr style=\"text-align: right;\">\n",
       "      <th></th>\n",
       "      <th>cnt</th>\n",
       "      <th>avg</th>\n",
       "    </tr>\n",
       "    <tr>\n",
       "      <th>SPECIAL_CONSIDERATIONS</th>\n",
       "      <th></th>\n",
       "      <th></th>\n",
       "    </tr>\n",
       "  </thead>\n",
       "  <tbody>\n",
       "    <tr>\n",
       "      <th>N</th>\n",
       "      <td>34272</td>\n",
       "      <td>0.53233</td>\n",
       "    </tr>\n",
       "    <tr>\n",
       "      <th>Y</th>\n",
       "      <td>27</td>\n",
       "      <td>0.62963</td>\n",
       "    </tr>\n",
       "  </tbody>\n",
       "</table>\n",
       "</div>"
      ],
      "text/plain": [
       "                          cnt      avg\n",
       "SPECIAL_CONSIDERATIONS                \n",
       "N                       34272  0.53233\n",
       "Y                          27  0.62963"
      ]
     },
     "execution_count": 20,
     "metadata": {},
     "output_type": "execute_result"
    }
   ],
   "source": [
    "category = 'SPECIAL_CONSIDERATIONS'\n",
    "t_df = categorical_variable_bin_table_get(category)\n",
    "t_df.head(10)"
   ]
  },
  {
   "cell_type": "code",
   "execution_count": 21,
   "metadata": {},
   "outputs": [],
   "source": [
    "charity_df = charity_df.drop(columns=[category])"
   ]
  },
  {
   "cell_type": "markdown",
   "metadata": {},
   "source": [
    "#### regenerate categorical variable list"
   ]
  },
  {
   "cell_type": "code",
   "execution_count": 22,
   "metadata": {},
   "outputs": [
    {
     "data": {
      "text/plain": [
       "APPLICATION_TYPE    8\n",
       "AFFILIATION         3\n",
       "CLASSIFICATION      8\n",
       "USE_CASE            5\n",
       "ORGANIZATION        3\n",
       "INCOME_AMT          9\n",
       "dtype: int64"
      ]
     },
     "execution_count": 22,
     "metadata": {},
     "output_type": "execute_result"
    }
   ],
   "source": [
    "# Generate our categorical variable list\n",
    "cat_list = charity_df.dtypes[charity_df.dtypes == \"object\"].index.tolist()\n",
    "# Check the number of unique values in each column\n",
    "charity_df[cat_list].nunique()"
   ]
  },
  {
   "cell_type": "markdown",
   "metadata": {},
   "source": [
    "#### INCOME_AMT"
   ]
  },
  {
   "cell_type": "code",
   "execution_count": 23,
   "metadata": {},
   "outputs": [
    {
     "data": {
      "text/html": [
       "<div>\n",
       "<style scoped>\n",
       "    .dataframe tbody tr th:only-of-type {\n",
       "        vertical-align: middle;\n",
       "    }\n",
       "\n",
       "    .dataframe tbody tr th {\n",
       "        vertical-align: top;\n",
       "    }\n",
       "\n",
       "    .dataframe thead th {\n",
       "        text-align: right;\n",
       "    }\n",
       "</style>\n",
       "<table border=\"1\" class=\"dataframe\">\n",
       "  <thead>\n",
       "    <tr style=\"text-align: right;\">\n",
       "      <th></th>\n",
       "      <th>cnt</th>\n",
       "      <th>avg</th>\n",
       "    </tr>\n",
       "    <tr>\n",
       "      <th>INCOME_AMT</th>\n",
       "      <th></th>\n",
       "      <th></th>\n",
       "    </tr>\n",
       "  </thead>\n",
       "  <tbody>\n",
       "    <tr>\n",
       "      <th>0</th>\n",
       "      <td>24388</td>\n",
       "      <td>0.515704</td>\n",
       "    </tr>\n",
       "    <tr>\n",
       "      <th>25000-99999</th>\n",
       "      <td>3747</td>\n",
       "      <td>0.569789</td>\n",
       "    </tr>\n",
       "    <tr>\n",
       "      <th>100000-499999</th>\n",
       "      <td>3374</td>\n",
       "      <td>0.578542</td>\n",
       "    </tr>\n",
       "    <tr>\n",
       "      <th>1M-5M</th>\n",
       "      <td>955</td>\n",
       "      <td>0.465969</td>\n",
       "    </tr>\n",
       "    <tr>\n",
       "      <th>1-9999</th>\n",
       "      <td>728</td>\n",
       "      <td>0.759615</td>\n",
       "    </tr>\n",
       "    <tr>\n",
       "      <th>10000-24999</th>\n",
       "      <td>543</td>\n",
       "      <td>0.677716</td>\n",
       "    </tr>\n",
       "    <tr>\n",
       "      <th>10M-50M</th>\n",
       "      <td>240</td>\n",
       "      <td>0.404167</td>\n",
       "    </tr>\n",
       "    <tr>\n",
       "      <th>5M-10M</th>\n",
       "      <td>185</td>\n",
       "      <td>0.470270</td>\n",
       "    </tr>\n",
       "    <tr>\n",
       "      <th>50M+</th>\n",
       "      <td>139</td>\n",
       "      <td>0.338129</td>\n",
       "    </tr>\n",
       "  </tbody>\n",
       "</table>\n",
       "</div>"
      ],
      "text/plain": [
       "                 cnt       avg\n",
       "INCOME_AMT                    \n",
       "0              24388  0.515704\n",
       "25000-99999     3747  0.569789\n",
       "100000-499999   3374  0.578542\n",
       "1M-5M            955  0.465969\n",
       "1-9999           728  0.759615\n",
       "10000-24999      543  0.677716\n",
       "10M-50M          240  0.404167\n",
       "5M-10M           185  0.470270\n",
       "50M+             139  0.338129"
      ]
     },
     "execution_count": 23,
     "metadata": {},
     "output_type": "execute_result"
    }
   ],
   "source": [
    "# Print out the INCOME_AMT value counts\n",
    "category = 'INCOME_AMT'\n",
    "t_df = categorical_variable_bin_table_get(category)\n",
    "t_df.head(10)"
   ]
  },
  {
   "cell_type": "code",
   "execution_count": 24,
   "metadata": {},
   "outputs": [
    {
     "name": "stdout",
     "output_type": "stream",
     "text": [
      "sum = 33192, total=34299, ratio=96.77%; items=5, cnt=728\n"
     ]
    }
   ],
   "source": [
    "# Check out the categroical variable \n",
    "cnt = categorical_variable_bin_cutoff(t_df, 0.95)"
   ]
  },
  {
   "cell_type": "code",
   "execution_count": 25,
   "metadata": {},
   "outputs": [
    {
     "data": {
      "text/html": [
       "<div>\n",
       "<style scoped>\n",
       "    .dataframe tbody tr th:only-of-type {\n",
       "        vertical-align: middle;\n",
       "    }\n",
       "\n",
       "    .dataframe tbody tr th {\n",
       "        vertical-align: top;\n",
       "    }\n",
       "\n",
       "    .dataframe thead th {\n",
       "        text-align: right;\n",
       "    }\n",
       "</style>\n",
       "<table border=\"1\" class=\"dataframe\">\n",
       "  <thead>\n",
       "    <tr style=\"text-align: right;\">\n",
       "      <th></th>\n",
       "      <th>cnt</th>\n",
       "      <th>avg</th>\n",
       "    </tr>\n",
       "    <tr>\n",
       "      <th>INCOME_AMT</th>\n",
       "      <th></th>\n",
       "      <th></th>\n",
       "    </tr>\n",
       "  </thead>\n",
       "  <tbody>\n",
       "    <tr>\n",
       "      <th>0</th>\n",
       "      <td>24388</td>\n",
       "      <td>0.515704</td>\n",
       "    </tr>\n",
       "    <tr>\n",
       "      <th>25000-99999</th>\n",
       "      <td>3747</td>\n",
       "      <td>0.569789</td>\n",
       "    </tr>\n",
       "    <tr>\n",
       "      <th>100000-499999</th>\n",
       "      <td>3374</td>\n",
       "      <td>0.578542</td>\n",
       "    </tr>\n",
       "    <tr>\n",
       "      <th>1M-5M</th>\n",
       "      <td>955</td>\n",
       "      <td>0.465969</td>\n",
       "    </tr>\n",
       "    <tr>\n",
       "      <th>1-9999</th>\n",
       "      <td>728</td>\n",
       "      <td>0.759615</td>\n",
       "    </tr>\n",
       "    <tr>\n",
       "      <th>Others_Lo</th>\n",
       "      <td>564</td>\n",
       "      <td>0.409574</td>\n",
       "    </tr>\n",
       "    <tr>\n",
       "      <th>Others_Hi</th>\n",
       "      <td>543</td>\n",
       "      <td>0.677716</td>\n",
       "    </tr>\n",
       "  </tbody>\n",
       "</table>\n",
       "</div>"
      ],
      "text/plain": [
       "                 cnt       avg\n",
       "INCOME_AMT                    \n",
       "0              24388  0.515704\n",
       "25000-99999     3747  0.569789\n",
       "100000-499999   3374  0.578542\n",
       "1M-5M            955  0.465969\n",
       "1-9999           728  0.759615\n",
       "Others_Lo        564  0.409574\n",
       "Others_Hi        543  0.677716"
      ]
     },
     "execution_count": 25,
     "metadata": {},
     "output_type": "execute_result"
    }
   ],
   "source": [
    "# Replace in DataFrame\n",
    "categorical_variables_replace(t_df, category, cnt, 0.5)\n",
    "\n",
    "# Check to make sure binning was successful\n",
    "categorical_variable_bin_table_get(category)"
   ]
  },
  {
   "cell_type": "markdown",
   "metadata": {},
   "source": [
    "### Done Categorical variables processing"
   ]
  },
  {
   "cell_type": "code",
   "execution_count": 26,
   "metadata": {},
   "outputs": [
    {
     "name": "stdout",
     "output_type": "stream",
     "text": [
      "<class 'pandas.core.frame.DataFrame'>\n",
      "RangeIndex: 34299 entries, 0 to 34298\n",
      "Data columns (total 9 columns):\n",
      " #   Column            Non-Null Count  Dtype \n",
      "---  ------            --------------  ----- \n",
      " 0   APPLICATION_TYPE  34299 non-null  object\n",
      " 1   AFFILIATION       34299 non-null  object\n",
      " 2   CLASSIFICATION    34299 non-null  object\n",
      " 3   USE_CASE          34299 non-null  object\n",
      " 4   ORGANIZATION      34299 non-null  object\n",
      " 5   STATUS            34299 non-null  int64 \n",
      " 6   INCOME_AMT        34299 non-null  object\n",
      " 7   ASK_AMT           34299 non-null  int64 \n",
      " 8   IS_SUCCESSFUL     34299 non-null  int64 \n",
      "dtypes: int64(3), object(6)\n",
      "memory usage: 2.4+ MB\n"
     ]
    }
   ],
   "source": [
    "charity_df.info()"
   ]
  },
  {
   "cell_type": "markdown",
   "metadata": {},
   "source": [
    "#### ASK_AMT           "
   ]
  },
  {
   "cell_type": "code",
   "execution_count": 27,
   "metadata": {},
   "outputs": [
    {
     "data": {
      "text/plain": [
       "count    3.429900e+04\n",
       "mean     2.769199e+06\n",
       "std      8.713045e+07\n",
       "min      5.000000e+03\n",
       "25%      5.000000e+03\n",
       "50%      5.000000e+03\n",
       "75%      7.742000e+03\n",
       "max      8.597806e+09\n",
       "Name: ASK_AMT, dtype: float64"
      ]
     },
     "execution_count": 27,
     "metadata": {},
     "output_type": "execute_result"
    }
   ],
   "source": [
    "charity_df['ASK_AMT'].describe()"
   ]
  },
  {
   "cell_type": "code",
   "execution_count": 28,
   "metadata": {},
   "outputs": [
    {
     "data": {
      "text/plain": [
       "count    34299.000000\n",
       "mean         9.412030\n",
       "std          1.865495\n",
       "min          8.517193\n",
       "25%          8.517193\n",
       "50%          8.517193\n",
       "75%          8.954415\n",
       "max         22.874773\n",
       "Name: ASK_AMT, dtype: float64"
      ]
     },
     "execution_count": 28,
     "metadata": {},
     "output_type": "execute_result"
    }
   ],
   "source": [
    "charity_df['ASK_AMT'] = np.log(charity_df['ASK_AMT'])\n",
    "charity_df['ASK_AMT'].describe()"
   ]
  },
  {
   "cell_type": "code",
   "execution_count": null,
   "metadata": {},
   "outputs": [],
   "source": []
  },
  {
   "cell_type": "code",
   "execution_count": null,
   "metadata": {},
   "outputs": [],
   "source": []
  },
  {
   "cell_type": "code",
   "execution_count": null,
   "metadata": {},
   "outputs": [],
   "source": []
  },
  {
   "cell_type": "markdown",
   "metadata": {},
   "source": [
    "### final DataFrame"
   ]
  },
  {
   "cell_type": "code",
   "execution_count": 29,
   "metadata": {},
   "outputs": [
    {
     "data": {
      "text/html": [
       "<div>\n",
       "<style scoped>\n",
       "    .dataframe tbody tr th:only-of-type {\n",
       "        vertical-align: middle;\n",
       "    }\n",
       "\n",
       "    .dataframe tbody tr th {\n",
       "        vertical-align: top;\n",
       "    }\n",
       "\n",
       "    .dataframe thead th {\n",
       "        text-align: right;\n",
       "    }\n",
       "</style>\n",
       "<table border=\"1\" class=\"dataframe\">\n",
       "  <thead>\n",
       "    <tr style=\"text-align: right;\">\n",
       "      <th></th>\n",
       "      <th>STATUS</th>\n",
       "      <th>ASK_AMT</th>\n",
       "      <th>IS_SUCCESSFUL</th>\n",
       "      <th>APPLICATION_TYPE_Others_Lo</th>\n",
       "      <th>APPLICATION_TYPE_T19</th>\n",
       "      <th>APPLICATION_TYPE_T3</th>\n",
       "      <th>APPLICATION_TYPE_T4</th>\n",
       "      <th>APPLICATION_TYPE_T5</th>\n",
       "      <th>APPLICATION_TYPE_T6</th>\n",
       "      <th>APPLICATION_TYPE_T8</th>\n",
       "      <th>...</th>\n",
       "      <th>USE_CASE_Preservation</th>\n",
       "      <th>USE_CASE_ProductDev</th>\n",
       "      <th>ORGANIZATION_Others_Hi</th>\n",
       "      <th>ORGANIZATION_Trust</th>\n",
       "      <th>INCOME_AMT_1-9999</th>\n",
       "      <th>INCOME_AMT_100000-499999</th>\n",
       "      <th>INCOME_AMT_1M-5M</th>\n",
       "      <th>INCOME_AMT_25000-99999</th>\n",
       "      <th>INCOME_AMT_Others_Hi</th>\n",
       "      <th>INCOME_AMT_Others_Lo</th>\n",
       "    </tr>\n",
       "  </thead>\n",
       "  <tbody>\n",
       "    <tr>\n",
       "      <th>0</th>\n",
       "      <td>1</td>\n",
       "      <td>8.517193</td>\n",
       "      <td>1</td>\n",
       "      <td>0</td>\n",
       "      <td>0</td>\n",
       "      <td>0</td>\n",
       "      <td>0</td>\n",
       "      <td>0</td>\n",
       "      <td>0</td>\n",
       "      <td>0</td>\n",
       "      <td>...</td>\n",
       "      <td>0</td>\n",
       "      <td>1</td>\n",
       "      <td>0</td>\n",
       "      <td>0</td>\n",
       "      <td>0</td>\n",
       "      <td>0</td>\n",
       "      <td>0</td>\n",
       "      <td>0</td>\n",
       "      <td>0</td>\n",
       "      <td>0</td>\n",
       "    </tr>\n",
       "    <tr>\n",
       "      <th>1</th>\n",
       "      <td>1</td>\n",
       "      <td>11.595335</td>\n",
       "      <td>1</td>\n",
       "      <td>0</td>\n",
       "      <td>0</td>\n",
       "      <td>1</td>\n",
       "      <td>0</td>\n",
       "      <td>0</td>\n",
       "      <td>0</td>\n",
       "      <td>0</td>\n",
       "      <td>...</td>\n",
       "      <td>1</td>\n",
       "      <td>0</td>\n",
       "      <td>1</td>\n",
       "      <td>0</td>\n",
       "      <td>1</td>\n",
       "      <td>0</td>\n",
       "      <td>0</td>\n",
       "      <td>0</td>\n",
       "      <td>0</td>\n",
       "      <td>0</td>\n",
       "    </tr>\n",
       "    <tr>\n",
       "      <th>2</th>\n",
       "      <td>1</td>\n",
       "      <td>8.517193</td>\n",
       "      <td>0</td>\n",
       "      <td>0</td>\n",
       "      <td>0</td>\n",
       "      <td>0</td>\n",
       "      <td>0</td>\n",
       "      <td>1</td>\n",
       "      <td>0</td>\n",
       "      <td>0</td>\n",
       "      <td>...</td>\n",
       "      <td>0</td>\n",
       "      <td>1</td>\n",
       "      <td>0</td>\n",
       "      <td>0</td>\n",
       "      <td>0</td>\n",
       "      <td>0</td>\n",
       "      <td>0</td>\n",
       "      <td>0</td>\n",
       "      <td>0</td>\n",
       "      <td>0</td>\n",
       "    </tr>\n",
       "  </tbody>\n",
       "</table>\n",
       "<p>3 rows × 31 columns</p>\n",
       "</div>"
      ],
      "text/plain": [
       "   STATUS    ASK_AMT  IS_SUCCESSFUL  APPLICATION_TYPE_Others_Lo  \\\n",
       "0       1   8.517193              1                           0   \n",
       "1       1  11.595335              1                           0   \n",
       "2       1   8.517193              0                           0   \n",
       "\n",
       "   APPLICATION_TYPE_T19  APPLICATION_TYPE_T3  APPLICATION_TYPE_T4  \\\n",
       "0                     0                    0                    0   \n",
       "1                     0                    1                    0   \n",
       "2                     0                    0                    0   \n",
       "\n",
       "   APPLICATION_TYPE_T5  APPLICATION_TYPE_T6  APPLICATION_TYPE_T8  ...  \\\n",
       "0                    0                    0                    0  ...   \n",
       "1                    0                    0                    0  ...   \n",
       "2                    1                    0                    0  ...   \n",
       "\n",
       "   USE_CASE_Preservation  USE_CASE_ProductDev  ORGANIZATION_Others_Hi  \\\n",
       "0                      0                    1                       0   \n",
       "1                      1                    0                       1   \n",
       "2                      0                    1                       0   \n",
       "\n",
       "   ORGANIZATION_Trust  INCOME_AMT_1-9999  INCOME_AMT_100000-499999  \\\n",
       "0                   0                  0                         0   \n",
       "1                   0                  1                         0   \n",
       "2                   0                  0                         0   \n",
       "\n",
       "   INCOME_AMT_1M-5M  INCOME_AMT_25000-99999  INCOME_AMT_Others_Hi  \\\n",
       "0                 0                       0                     0   \n",
       "1                 0                       0                     0   \n",
       "2                 0                       0                     0   \n",
       "\n",
       "   INCOME_AMT_Others_Lo  \n",
       "0                     0  \n",
       "1                     0  \n",
       "2                     0  \n",
       "\n",
       "[3 rows x 31 columns]"
      ]
     },
     "execution_count": 29,
     "metadata": {},
     "output_type": "execute_result"
    }
   ],
   "source": [
    "final_df = pd.get_dummies(charity_df, columns=cat_list, drop_first=True)\n",
    "final_df.head(3)"
   ]
  },
  {
   "cell_type": "code",
   "execution_count": 30,
   "metadata": {},
   "outputs": [
    {
     "name": "stdout",
     "output_type": "stream",
     "text": [
      "<class 'pandas.core.frame.DataFrame'>\n",
      "RangeIndex: 34299 entries, 0 to 34298\n",
      "Data columns (total 31 columns):\n",
      " #   Column                      Non-Null Count  Dtype  \n",
      "---  ------                      --------------  -----  \n",
      " 0   STATUS                      34299 non-null  int64  \n",
      " 1   ASK_AMT                     34299 non-null  float64\n",
      " 2   IS_SUCCESSFUL               34299 non-null  int64  \n",
      " 3   APPLICATION_TYPE_Others_Lo  34299 non-null  uint8  \n",
      " 4   APPLICATION_TYPE_T19        34299 non-null  uint8  \n",
      " 5   APPLICATION_TYPE_T3         34299 non-null  uint8  \n",
      " 6   APPLICATION_TYPE_T4         34299 non-null  uint8  \n",
      " 7   APPLICATION_TYPE_T5         34299 non-null  uint8  \n",
      " 8   APPLICATION_TYPE_T6         34299 non-null  uint8  \n",
      " 9   APPLICATION_TYPE_T8         34299 non-null  uint8  \n",
      " 10  AFFILIATION_Independent     34299 non-null  uint8  \n",
      " 11  AFFILIATION_Others_Hi       34299 non-null  uint8  \n",
      " 12  CLASSIFICATION_C1200        34299 non-null  uint8  \n",
      " 13  CLASSIFICATION_C2000        34299 non-null  uint8  \n",
      " 14  CLASSIFICATION_C2100        34299 non-null  uint8  \n",
      " 15  CLASSIFICATION_C3000        34299 non-null  uint8  \n",
      " 16  CLASSIFICATION_C7000        34299 non-null  uint8  \n",
      " 17  CLASSIFICATION_Others_Hi    34299 non-null  uint8  \n",
      " 18  CLASSIFICATION_Others_Lo    34299 non-null  uint8  \n",
      " 19  USE_CASE_Heathcare          34299 non-null  uint8  \n",
      " 20  USE_CASE_Other              34299 non-null  uint8  \n",
      " 21  USE_CASE_Preservation       34299 non-null  uint8  \n",
      " 22  USE_CASE_ProductDev         34299 non-null  uint8  \n",
      " 23  ORGANIZATION_Others_Hi      34299 non-null  uint8  \n",
      " 24  ORGANIZATION_Trust          34299 non-null  uint8  \n",
      " 25  INCOME_AMT_1-9999           34299 non-null  uint8  \n",
      " 26  INCOME_AMT_100000-499999    34299 non-null  uint8  \n",
      " 27  INCOME_AMT_1M-5M            34299 non-null  uint8  \n",
      " 28  INCOME_AMT_25000-99999      34299 non-null  uint8  \n",
      " 29  INCOME_AMT_Others_Hi        34299 non-null  uint8  \n",
      " 30  INCOME_AMT_Others_Lo        34299 non-null  uint8  \n",
      "dtypes: float64(1), int64(2), uint8(28)\n",
      "memory usage: 1.7 MB\n"
     ]
    }
   ],
   "source": [
    "final_df.info()"
   ]
  },
  {
   "cell_type": "markdown",
   "metadata": {},
   "source": [
    "## Split Data: train / test"
   ]
  },
  {
   "cell_type": "code",
   "execution_count": 31,
   "metadata": {},
   "outputs": [],
   "source": [
    "# Split our preprocessed data into our features and target arrays\n",
    "y = final_df[\"IS_SUCCESSFUL\"].values\n",
    "X = final_df.drop(columns = [\"IS_SUCCESSFUL\"]).values"
   ]
  },
  {
   "cell_type": "code",
   "execution_count": 32,
   "metadata": {},
   "outputs": [],
   "source": [
    "# Split the preprocessed data into a training and testing dataset\n",
    "X_train, X_test, y_train, y_test = train_test_split(X, y, random_state=78)"
   ]
  },
  {
   "cell_type": "markdown",
   "metadata": {},
   "source": [
    "### Scale"
   ]
  },
  {
   "cell_type": "code",
   "execution_count": 33,
   "metadata": {},
   "outputs": [],
   "source": [
    "# Create a StandardScaler instance\n",
    "scaler = StandardScaler()\n",
    "\n",
    "# Fit the StandardScaler\n",
    "X_scaler = scaler.fit(X_train)\n",
    "\n",
    "# Scale the data\n",
    "X_train_scaled = X_scaler.transform(X_train)\n",
    "X_test_scaled = X_scaler.transform(X_test)"
   ]
  },
  {
   "cell_type": "markdown",
   "metadata": {},
   "source": [
    "### TensorFlow NN"
   ]
  },
  {
   "cell_type": "code",
   "execution_count": 34,
   "metadata": {},
   "outputs": [],
   "source": [
    "def nn_builder(number_input_features, hidden_nodes):\n",
    "    nn = Sequential()\n",
    "\n",
    "    # First hidden layer\n",
    "    nn.add(Dense(units=hidden_nodes[0], input_dim=number_input_features, activation=\"relu\"))\n",
    "\n",
    "    # hidden layers, exclude the first hidden layer\n",
    "    for layer, h_node in enumerate(hidden_nodes):\n",
    "        # done First hidden layer already.\n",
    "        if layer == 0:\n",
    "            continue\n",
    "        nn.add(Dense(units=h_node, activation=\"relu\"))\n",
    "\n",
    "    # Output layer\n",
    "    nn.add(Dense(units=1, activation=\"sigmoid\"))\n",
    "\n",
    "    # Compile the Sequential model together and customize metrics\n",
    "    nn.compile(loss=\"binary_crossentropy\", optimizer=\"adam\", metrics=[\"accuracy\"])\n",
    "\n",
    "    # Check the structure of the model\n",
    "    nn.summary()\n",
    "    return nn"
   ]
  },
  {
   "cell_type": "markdown",
   "metadata": {},
   "source": [
    "### three layers"
   ]
  },
  {
   "cell_type": "code",
   "execution_count": 35,
   "metadata": {},
   "outputs": [
    {
     "name": "stdout",
     "output_type": "stream",
     "text": [
      "Model: \"sequential\"\n",
      "_________________________________________________________________\n",
      "Layer (type)                 Output Shape              Param #   \n",
      "=================================================================\n",
      "dense (Dense)                (None, 30)                930       \n",
      "_________________________________________________________________\n",
      "dense_1 (Dense)              (None, 20)                620       \n",
      "_________________________________________________________________\n",
      "dense_2 (Dense)              (None, 10)                210       \n",
      "_________________________________________________________________\n",
      "dense_3 (Dense)              (None, 1)                 11        \n",
      "=================================================================\n",
      "Total params: 1,771\n",
      "Trainable params: 1,771\n",
      "Non-trainable params: 0\n",
      "_________________________________________________________________\n",
      "Train on 25724 samples\n",
      "Epoch 1/30\n",
      "25724/25724 [==============================] - 1s 46us/sample - loss: 0.5857 - accuracy: 0.7078\n",
      "Epoch 2/30\n",
      "25724/25724 [==============================] - 1s 28us/sample - loss: 0.5539 - accuracy: 0.7292\n",
      "Epoch 3/30\n",
      "25724/25724 [==============================] - 1s 28us/sample - loss: 0.5499 - accuracy: 0.7301\n",
      "Epoch 4/30\n",
      "25724/25724 [==============================] - 1s 29us/sample - loss: 0.5475 - accuracy: 0.7317\n",
      "Epoch 5/30\n",
      "25724/25724 [==============================] - 1s 29us/sample - loss: 0.5466 - accuracy: 0.7331\n",
      "Epoch 6/30\n",
      "25724/25724 [==============================] - 1s 28us/sample - loss: 0.5454 - accuracy: 0.7339\n",
      "Epoch 7/30\n",
      "25724/25724 [==============================] - 1s 28us/sample - loss: 0.5442 - accuracy: 0.7333\n",
      "Epoch 8/30\n",
      "25724/25724 [==============================] - 1s 28us/sample - loss: 0.5439 - accuracy: 0.7342\n",
      "Epoch 9/30\n",
      "25724/25724 [==============================] - 1s 28us/sample - loss: 0.5430 - accuracy: 0.7343\n",
      "Epoch 10/30\n",
      "25724/25724 [==============================] - 1s 28us/sample - loss: 0.5424 - accuracy: 0.7348\n",
      "Epoch 11/30\n",
      "25724/25724 [==============================] - 1s 29us/sample - loss: 0.5416 - accuracy: 0.7346\n",
      "Epoch 12/30\n",
      "25724/25724 [==============================] - 1s 29us/sample - loss: 0.5417 - accuracy: 0.7351\n",
      "Epoch 13/30\n",
      "25724/25724 [==============================] - 1s 28us/sample - loss: 0.5411 - accuracy: 0.7352\n",
      "Epoch 14/30\n",
      "25724/25724 [==============================] - 1s 29us/sample - loss: 0.5410 - accuracy: 0.7335\n",
      "Epoch 15/30\n",
      "25724/25724 [==============================] - 1s 28us/sample - loss: 0.5401 - accuracy: 0.7370\n",
      "Epoch 16/30\n",
      "25724/25724 [==============================] - 1s 29us/sample - loss: 0.5404 - accuracy: 0.7357\n",
      "Epoch 17/30\n",
      "25724/25724 [==============================] - 1s 33us/sample - loss: 0.5406 - accuracy: 0.7374\n",
      "Epoch 18/30\n",
      "25724/25724 [==============================] - 1s 29us/sample - loss: 0.5398 - accuracy: 0.7367\n",
      "Epoch 19/30\n",
      "25724/25724 [==============================] - 1s 29us/sample - loss: 0.5397 - accuracy: 0.7368\n",
      "Epoch 20/30\n",
      "25724/25724 [==============================] - 1s 29us/sample - loss: 0.5390 - accuracy: 0.7372\n",
      "Epoch 21/30\n",
      "25724/25724 [==============================] - 1s 29us/sample - loss: 0.5390 - accuracy: 0.7376\n",
      "Epoch 22/30\n",
      "25724/25724 [==============================] - 1s 29us/sample - loss: 0.5391 - accuracy: 0.7381\n",
      "Epoch 23/30\n",
      "25724/25724 [==============================] - 1s 28us/sample - loss: 0.5382 - accuracy: 0.7379\n",
      "Epoch 24/30\n",
      "25724/25724 [==============================] - 1s 29us/sample - loss: 0.5383 - accuracy: 0.7384\n",
      "Epoch 25/30\n",
      "25724/25724 [==============================] - 1s 29us/sample - loss: 0.5379 - accuracy: 0.7374\n",
      "Epoch 26/30\n",
      "25724/25724 [==============================] - 1s 28us/sample - loss: 0.5374 - accuracy: 0.7382\n",
      "Epoch 27/30\n",
      "25724/25724 [==============================] - 1s 29us/sample - loss: 0.5376 - accuracy: 0.7379\n",
      "Epoch 28/30\n",
      "25724/25724 [==============================] - 1s 28us/sample - loss: 0.5378 - accuracy: 0.7367\n",
      "Epoch 29/30\n",
      "25724/25724 [==============================] - 1s 30us/sample - loss: 0.5378 - accuracy: 0.7374\n",
      "Epoch 30/30\n",
      "25724/25724 [==============================] - 1s 28us/sample - loss: 0.5371 - accuracy: 0.7376\n",
      "8575/8575 - 0s - loss: 0.5490 - accuracy: 0.7284\n",
      "Loss: 0.5490424340042359, Accuracy: 0.728396475315094\n"
     ]
    }
   ],
   "source": [
    "# build deep neural network\n",
    "nn = nn_builder(len(X_train[0]), [30, 20, 10])\n",
    "\n",
    "# Train the model \n",
    "fit_model = nn.fit(X_train_scaled, y_train, epochs=30) \n",
    "\n",
    "# Evaluate the model using the test data \n",
    "model_loss, model_accuracy = nn.evaluate(X_test_scaled,y_test,verbose=2)\n",
    "print(f\"Loss: {model_loss}, Accuracy: {model_accuracy}\")"
   ]
  },
  {
   "cell_type": "code",
   "execution_count": 36,
   "metadata": {},
   "outputs": [],
   "source": [
    "# Export our model to HDF5 file\n",
    "nn.save(\"three_layers.h5\")"
   ]
  },
  {
   "cell_type": "markdown",
   "metadata": {},
   "source": [
    "### two layers"
   ]
  },
  {
   "cell_type": "code",
   "execution_count": 37,
   "metadata": {},
   "outputs": [
    {
     "name": "stdout",
     "output_type": "stream",
     "text": [
      "Model: \"sequential_1\"\n",
      "_________________________________________________________________\n",
      "Layer (type)                 Output Shape              Param #   \n",
      "=================================================================\n",
      "dense_4 (Dense)              (None, 25)                775       \n",
      "_________________________________________________________________\n",
      "dense_5 (Dense)              (None, 10)                260       \n",
      "_________________________________________________________________\n",
      "dense_6 (Dense)              (None, 1)                 11        \n",
      "=================================================================\n",
      "Total params: 1,046\n",
      "Trainable params: 1,046\n",
      "Non-trainable params: 0\n",
      "_________________________________________________________________\n",
      "Train on 25724 samples\n",
      "Epoch 1/30\n",
      "25724/25724 [==============================] - 1s 43us/sample - loss: 0.5905 - accuracy: 0.7056\n",
      "Epoch 2/30\n",
      "25724/25724 [==============================] - 1s 31us/sample - loss: 0.5546 - accuracy: 0.7290\n",
      "Epoch 3/30\n",
      "25724/25724 [==============================] - 1s 28us/sample - loss: 0.5513 - accuracy: 0.7310\n",
      "Epoch 4/30\n",
      "25724/25724 [==============================] - 1s 28us/sample - loss: 0.5494 - accuracy: 0.7304\n",
      "Epoch 5/30\n",
      "25724/25724 [==============================] - 1s 29us/sample - loss: 0.5476 - accuracy: 0.7313\n",
      "Epoch 6/30\n",
      "25724/25724 [==============================] - 1s 27us/sample - loss: 0.5469 - accuracy: 0.7326\n",
      "Epoch 7/30\n",
      "25724/25724 [==============================] - 1s 28us/sample - loss: 0.5459 - accuracy: 0.7312\n",
      "Epoch 8/30\n",
      "25724/25724 [==============================] - 1s 27us/sample - loss: 0.5455 - accuracy: 0.7336\n",
      "Epoch 9/30\n",
      "25724/25724 [==============================] - 1s 28us/sample - loss: 0.5444 - accuracy: 0.7326\n",
      "Epoch 10/30\n",
      "25724/25724 [==============================] - 1s 28us/sample - loss: 0.5437 - accuracy: 0.7334\n",
      "Epoch 11/30\n",
      "25724/25724 [==============================] - 1s 28us/sample - loss: 0.5437 - accuracy: 0.7341\n",
      "Epoch 12/30\n",
      "25724/25724 [==============================] - 1s 28us/sample - loss: 0.5429 - accuracy: 0.7344\n",
      "Epoch 13/30\n",
      "25724/25724 [==============================] - 1s 27us/sample - loss: 0.5426 - accuracy: 0.7343\n",
      "Epoch 14/30\n",
      "25724/25724 [==============================] - 1s 29us/sample - loss: 0.5424 - accuracy: 0.7346\n",
      "Epoch 15/30\n",
      "25724/25724 [==============================] - 1s 27us/sample - loss: 0.5420 - accuracy: 0.7345\n",
      "Epoch 16/30\n",
      "25724/25724 [==============================] - 1s 27us/sample - loss: 0.5415 - accuracy: 0.7348\n",
      "Epoch 17/30\n",
      "25724/25724 [==============================] - 1s 28us/sample - loss: 0.5414 - accuracy: 0.7350\n",
      "Epoch 18/30\n",
      "25724/25724 [==============================] - 1s 28us/sample - loss: 0.5414 - accuracy: 0.7346\n",
      "Epoch 19/30\n",
      "25724/25724 [==============================] - 1s 29us/sample - loss: 0.5408 - accuracy: 0.7339\n",
      "Epoch 20/30\n",
      "25724/25724 [==============================] - 1s 28us/sample - loss: 0.5409 - accuracy: 0.7343\n",
      "Epoch 21/30\n",
      "25724/25724 [==============================] - 1s 29us/sample - loss: 0.5405 - accuracy: 0.7369\n",
      "Epoch 22/30\n",
      "25724/25724 [==============================] - 1s 28us/sample - loss: 0.5406 - accuracy: 0.7357\n",
      "Epoch 23/30\n",
      "25724/25724 [==============================] - 1s 28us/sample - loss: 0.5401 - accuracy: 0.7352\n",
      "Epoch 24/30\n",
      "25724/25724 [==============================] - 1s 30us/sample - loss: 0.5405 - accuracy: 0.7364\n",
      "Epoch 25/30\n",
      "25724/25724 [==============================] - 1s 28us/sample - loss: 0.5402 - accuracy: 0.7362\n",
      "Epoch 26/30\n",
      "25724/25724 [==============================] - 1s 28us/sample - loss: 0.5398 - accuracy: 0.7358\n",
      "Epoch 27/30\n",
      "25724/25724 [==============================] - 1s 29us/sample - loss: 0.5395 - accuracy: 0.7361\n",
      "Epoch 28/30\n",
      "25724/25724 [==============================] - 1s 28us/sample - loss: 0.5397 - accuracy: 0.7359\n",
      "Epoch 29/30\n",
      "25724/25724 [==============================] - 1s 28us/sample - loss: 0.5389 - accuracy: 0.7360\n",
      "Epoch 30/30\n",
      "25724/25724 [==============================] - 1s 27us/sample - loss: 0.5391 - accuracy: 0.7357\n",
      "8575/8575 - 0s - loss: 0.5482 - accuracy: 0.7268\n",
      "Loss: 0.5481892812286799, Accuracy: 0.7267638444900513\n"
     ]
    }
   ],
   "source": [
    "# build deep neural network\n",
    "nn = nn_builder(len(X_train[0]), [25, 10])\n",
    "\n",
    "# Train the model \n",
    "fit_model = nn.fit(X_train_scaled, y_train, epochs=30) \n",
    "\n",
    "# Evaluate the model using the test data \n",
    "model_loss, model_accuracy = nn.evaluate(X_test_scaled,y_test,verbose=2)\n",
    "print(f\"Loss: {model_loss}, Accuracy: {model_accuracy}\")"
   ]
  },
  {
   "cell_type": "code",
   "execution_count": 38,
   "metadata": {},
   "outputs": [],
   "source": [
    "# Export our model to HDF5 file\n",
    "nn.save(\"two_layers.h5\")"
   ]
  },
  {
   "cell_type": "markdown",
   "metadata": {},
   "source": [
    "### one layer"
   ]
  },
  {
   "cell_type": "code",
   "execution_count": 39,
   "metadata": {},
   "outputs": [
    {
     "name": "stdout",
     "output_type": "stream",
     "text": [
      "Model: \"sequential_2\"\n",
      "_________________________________________________________________\n",
      "Layer (type)                 Output Shape              Param #   \n",
      "=================================================================\n",
      "dense_7 (Dense)              (None, 20)                620       \n",
      "_________________________________________________________________\n",
      "dense_8 (Dense)              (None, 1)                 21        \n",
      "=================================================================\n",
      "Total params: 641\n",
      "Trainable params: 641\n",
      "Non-trainable params: 0\n",
      "_________________________________________________________________\n",
      "Train on 25724 samples\n",
      "Epoch 1/30\n",
      "25724/25724 [==============================] - 1s 39us/sample - loss: 0.6050 - accuracy: 0.6969\n",
      "Epoch 2/30\n",
      "25724/25724 [==============================] - 1s 28us/sample - loss: 0.5637 - accuracy: 0.7246\n",
      "Epoch 3/30\n",
      "25724/25724 [==============================] - 1s 28us/sample - loss: 0.5555 - accuracy: 0.7286\n",
      "Epoch 4/30\n",
      "25724/25724 [==============================] - 1s 29us/sample - loss: 0.5525 - accuracy: 0.7284\n",
      "Epoch 5/30\n",
      "25724/25724 [==============================] - 1s 27us/sample - loss: 0.5505 - accuracy: 0.7315\n",
      "Epoch 6/30\n",
      "25724/25724 [==============================] - 1s 28us/sample - loss: 0.5497 - accuracy: 0.7321\n",
      "Epoch 7/30\n",
      "25724/25724 [==============================] - 1s 30us/sample - loss: 0.5482 - accuracy: 0.7336\n",
      "Epoch 8/30\n",
      "25724/25724 [==============================] - 1s 27us/sample - loss: 0.5479 - accuracy: 0.7315\n",
      "Epoch 9/30\n",
      "25724/25724 [==============================] - 1s 27us/sample - loss: 0.5472 - accuracy: 0.7322\n",
      "Epoch 10/30\n",
      "25724/25724 [==============================] - 1s 27us/sample - loss: 0.5464 - accuracy: 0.7326\n",
      "Epoch 11/30\n",
      "25724/25724 [==============================] - 1s 27us/sample - loss: 0.5458 - accuracy: 0.7322\n",
      "Epoch 12/30\n",
      "25724/25724 [==============================] - 1s 27us/sample - loss: 0.5453 - accuracy: 0.7330\n",
      "Epoch 13/30\n",
      "25724/25724 [==============================] - 1s 27us/sample - loss: 0.5456 - accuracy: 0.7322\n",
      "Epoch 14/30\n",
      "25724/25724 [==============================] - 1s 27us/sample - loss: 0.5452 - accuracy: 0.7340\n",
      "Epoch 15/30\n",
      "25724/25724 [==============================] - 1s 27us/sample - loss: 0.5449 - accuracy: 0.7336\n",
      "Epoch 16/30\n",
      "25724/25724 [==============================] - 1s 27us/sample - loss: 0.5448 - accuracy: 0.7341\n",
      "Epoch 17/30\n",
      "25724/25724 [==============================] - 1s 27us/sample - loss: 0.5444 - accuracy: 0.7332\n",
      "Epoch 18/30\n",
      "25724/25724 [==============================] - 1s 28us/sample - loss: 0.5444 - accuracy: 0.7340\n",
      "Epoch 19/30\n",
      "25724/25724 [==============================] - 1s 27us/sample - loss: 0.5438 - accuracy: 0.7333\n",
      "Epoch 20/30\n",
      "25724/25724 [==============================] - 1s 27us/sample - loss: 0.5440 - accuracy: 0.7339\n",
      "Epoch 21/30\n",
      "25724/25724 [==============================] - 1s 27us/sample - loss: 0.5436 - accuracy: 0.7338\n",
      "Epoch 22/30\n",
      "25724/25724 [==============================] - 1s 27us/sample - loss: 0.5437 - accuracy: 0.7339\n",
      "Epoch 23/30\n",
      "25724/25724 [==============================] - 1s 27us/sample - loss: 0.5433 - accuracy: 0.7345\n",
      "Epoch 24/30\n",
      "25724/25724 [==============================] - 1s 27us/sample - loss: 0.5431 - accuracy: 0.7341\n",
      "Epoch 25/30\n",
      "25724/25724 [==============================] - 1s 27us/sample - loss: 0.5429 - accuracy: 0.7339\n",
      "Epoch 26/30\n",
      "25724/25724 [==============================] - 1s 27us/sample - loss: 0.5428 - accuracy: 0.7340\n",
      "Epoch 27/30\n",
      "25724/25724 [==============================] - 1s 27us/sample - loss: 0.5428 - accuracy: 0.7336\n",
      "Epoch 28/30\n",
      "25724/25724 [==============================] - 1s 27us/sample - loss: 0.5427 - accuracy: 0.7341\n",
      "Epoch 29/30\n",
      "25724/25724 [==============================] - 1s 28us/sample - loss: 0.5427 - accuracy: 0.7340\n",
      "Epoch 30/30\n",
      "25724/25724 [==============================] - 1s 29us/sample - loss: 0.5424 - accuracy: 0.7346\n",
      "8575/8575 - 0s - loss: 0.5528 - accuracy: 0.7248\n",
      "Loss: 0.5528147064145036, Accuracy: 0.724781334400177\n"
     ]
    }
   ],
   "source": [
    "# build deep neural network\n",
    "nn = nn_builder(len(X_train[0]), [20])\n",
    "\n",
    "# Train the model \n",
    "fit_model = nn.fit(X_train_scaled, y_train, epochs=30) \n",
    "\n",
    "# Evaluate the model using the test data \n",
    "model_loss, model_accuracy = nn.evaluate(X_test_scaled,y_test,verbose=2)\n",
    "print(f\"Loss: {model_loss}, Accuracy: {model_accuracy}\")"
   ]
  },
  {
   "cell_type": "code",
   "execution_count": 40,
   "metadata": {},
   "outputs": [],
   "source": [
    "# Export our model to HDF5 file\n",
    "nn.save(\"one_layers.h5\")"
   ]
  },
  {
   "cell_type": "markdown",
   "metadata": {},
   "source": [
    "### better one"
   ]
  },
  {
   "cell_type": "code",
   "execution_count": 42,
   "metadata": {},
   "outputs": [
    {
     "name": "stdout",
     "output_type": "stream",
     "text": [
      "8575/8575 - 0s - loss: 0.5482 - accuracy: 0.7268\n",
      "Loss: 0.5481892812286799, Accuracy: 0.7267638444900513\n"
     ]
    }
   ],
   "source": [
    "# Import the model to a new object\n",
    "nn_imported = tf.keras.models.load_model('two_layers.h5')\n",
    "\n",
    "# Evaluate the model using the test data \n",
    "model_loss, model_accuracy = nn_imported.evaluate(X_test_scaled,y_test,verbose=2)\n",
    "print(f\"Loss: {model_loss}, Accuracy: {model_accuracy}\")"
   ]
  },
  {
   "cell_type": "code",
   "execution_count": null,
   "metadata": {},
   "outputs": [],
   "source": []
  }
 ],
 "metadata": {
  "kernelspec": {
   "display_name": "mlenv",
   "language": "python",
   "name": "mlenv"
  },
  "language_info": {
   "codemirror_mode": {
    "name": "ipython",
    "version": 3
   },
   "file_extension": ".py",
   "mimetype": "text/x-python",
   "name": "python",
   "nbconvert_exporter": "python",
   "pygments_lexer": "ipython3",
   "version": "3.7.7"
  }
 },
 "nbformat": 4,
 "nbformat_minor": 4
}
